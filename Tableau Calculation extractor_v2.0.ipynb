{
 "cells": [
  {
   "cell_type": "code",
   "execution_count": null,
   "metadata": {},
   "outputs": [],
   "source": [
    "import pandas as pd\n",
    "import bs4 as bs\n",
    "import zipfile\n",
    "import matplotlib.pyplot as plt\n",
    "from matplotlib.backends.backend_pdf import PdfPages\n",
    "import os\n",
    "import re\n",
    "\n",
    "import win32com.client\n",
    "from pywintypes import com_error\n",
    "import sys, os\n",
    "from os.path import isfile, join\n",
    "\n",
    "import xml.etree.ElementTree as ET"
   ]
  },
  {
   "cell_type": "markdown",
   "metadata": {},
   "source": [
    "## Input folder - Find if there is a twbx or twb file in the folder\n",
    "- if there is a twbx, unzip it to create a twb, then work with this\n",
    "- if there's only a twb, work with this"
   ]
  },
  {
   "cell_type": "code",
   "execution_count": null,
   "metadata": {
    "scrolled": true
   },
   "outputs": [],
   "source": [
    "input_path = \"inputs\"\n",
    "output_path = \"outputs\"\n",
    "\n",
    "mypath = \"./{}\".format(input_path)"
   ]
  },
  {
   "cell_type": "code",
   "execution_count": null,
   "metadata": {},
   "outputs": [],
   "source": [
    "#only gets files and not directories within the inputs folder -https://stackoverflow.com/questions/3207219/how-do-i-list-all-files-of-a-directory\n",
    "f = [f for f in os.listdir(mypath) if isfile(join(mypath, f))] \n",
    "f"
   ]
  },
  {
   "cell_type": "code",
   "execution_count": null,
   "metadata": {},
   "outputs": [],
   "source": [
    "for i in [f for f in os.listdir(mypath) if isfile(join(mypath, f))] :\n",
    "   \n",
    "    if i.split(\".\")[-1] == 'twbx':\n",
    "        packagedWorkbook = i\n",
    "            \n",
    "        with zipfile.ZipFile(input_path+\"/\"+packagedWorkbook, 'r') as zip_ref:\n",
    "            zip_ref.extractall(input_path+\"/\")\n",
    "    else:\n",
    "        packagedWorkbook = \"\"\n",
    "        \n",
    "for i in [f for f in os.listdir(mypath) if isfile(join(mypath, f))] :\n",
    "    #print(i.split(\".\")[-1])\n",
    "    \n",
    "    if i.split(\".\")[-1] == 'twb':\n",
    "        unpackedWorkbook = i \n",
    "        \n",
    "\n",
    "#print('\\n')\n",
    "print('packaged workbook: ' + packagedWorkbook)\n",
    "print('unpackaged workbook: ' + unpackedWorkbook)"
   ]
  },
  {
   "cell_type": "code",
   "execution_count": null,
   "metadata": {},
   "outputs": [],
   "source": [
    "tableauFile = input_path+\"/\"+unpackedWorkbook\n",
    "tableauFile"
   ]
  },
  {
   "cell_type": "markdown",
   "metadata": {},
   "source": [
    "# Parse xml to get all calculations"
   ]
  },
  {
   "cell_type": "code",
   "execution_count": null,
   "metadata": {},
   "outputs": [],
   "source": [
    "tree = ET.parse(tableauFile)\n",
    "root = tree.getroot()"
   ]
  },
  {
   "cell_type": "code",
   "execution_count": null,
   "metadata": {},
   "outputs": [],
   "source": [
    "collator = []\n",
    "calcNames = []\n",
    "calcCaptions = []\n",
    "\n",
    "for elem in root.findall(\"./datasources/datasource/column\"):\n",
    "    print(elem)\n",
    "    \n",
    "    dict_temp = {}\n",
    "    \n",
    "    if (elem.findall('calculation')) != []:    #only get nodes where there is a calculation\n",
    "        try:\n",
    "            print(\"caption: \" + elem.attrib['caption'])\n",
    "            dict_temp['caption'] = elem.attrib['caption']\n",
    "            calcCaptions.append(elem.attrib['caption'])\n",
    "\n",
    "            dict_temp['datatype'] = elem.attrib['datatype']\n",
    "            dict_temp['name'] = elem.attrib['name']\n",
    "\n",
    "            f2 = (elem.attrib['name']).replace(']','')\n",
    "            f2 = f2.replace('[', '')\n",
    "            calcNames.append(f2)\n",
    "        except:\n",
    "            print('skipped calc')\n",
    "            print(\"caption: \" + str(elem.attrib['name']))\n",
    "            print(\"...........skipped calc..........\")\n",
    "        \n",
    "        try:\n",
    "            paramExists = elem.attrib['param-domain-type']\n",
    "            print(paramExists)\n",
    "            dict_temp['isParameter'] = 'yes'\n",
    "            dict_temp['formula'] = 'NA'\n",
    "        except:\n",
    "            dict_temp['isParameter'] = 'no'\n",
    "            \n",
    "            try:\n",
    "                for calc in elem.findall('calculation'):\n",
    "                    dict_temp['formula'] = calc.attrib['formula']\n",
    "            except:\n",
    "                print('skipped calc')\n",
    "                print(\"caption: \" + str(elem.attrib['name']))\n",
    "                print(\"...........skipped calc..........\")\n",
    "                dict_temp['formula'] = 'NA'\n",
    "                \n",
    "        else:\n",
    "            print('NOT PROCESSING!!!!')\n",
    "            print(elem.attrib['name'])\n",
    "                \n",
    "        collator.append(dict_temp)"
   ]
  },
  {
   "cell_type": "code",
   "execution_count": null,
   "metadata": {},
   "outputs": [],
   "source": [
    "calcDict = dict(zip(calcNames, calcCaptions))\n",
    "calcDict"
   ]
  },
  {
   "cell_type": "code",
   "execution_count": null,
   "metadata": {},
   "outputs": [],
   "source": [
    "def default_to_friendly_names(formulaList):\n",
    "\n",
    "    for i in formulaList:\n",
    "        for tableauName, friendlyName in calcDict.items():\n",
    "            i['formula'] = (i['formula']).replace(tableauName, friendlyName)\n",
    "       \n",
    "    return formulaList"
   ]
  },
  {
   "cell_type": "code",
   "execution_count": null,
   "metadata": {},
   "outputs": [],
   "source": [
    "collator = default_to_friendly_names(collator)\n",
    "collator"
   ]
  },
  {
   "cell_type": "code",
   "execution_count": null,
   "metadata": {
    "scrolled": true
   },
   "outputs": [],
   "source": [
    "df = pd.DataFrame(collator)\n",
    "\n",
    "df.columns = ['CalculationName', 'DataType', 'Formula', 'isParameter', 'RawName']\n",
    "df=df.sort_values(by=['isParameter','CalculationName'])\n",
    "df=df.reset_index(drop=True)\n",
    "df"
   ]
  },
  {
   "cell_type": "code",
   "execution_count": null,
   "metadata": {},
   "outputs": [],
   "source": [
    "#df.to_csv(output_path+'/myExportedFormulas.csv', index = False)"
   ]
  },
  {
   "cell_type": "markdown",
   "metadata": {},
   "source": [
    "## ........................ End of processing of all formulas ......................"
   ]
  },
  {
   "cell_type": "markdown",
   "metadata": {},
   "source": [
    "# Getting all filters for all worksheets"
   ]
  },
  {
   "cell_type": "code",
   "execution_count": null,
   "metadata": {},
   "outputs": [],
   "source": [
    "filters_in_sheet = []\n",
    "context = []\n",
    "collatelist = []\n",
    "\n",
    "for worskheet in root.findall(\"./worksheets/worksheet\"):\n",
    "    \n",
    "    tempdict = {}\n",
    "    c = 0\n",
    "    \n",
    "    for filt in worskheet.findall('table/view/filter'):\n",
    "\n",
    "        calcfromfilter = filt.attrib['column']        \n",
    "        pat = '(?<=\\:)(.*?)(?=\\:)' \n",
    "        string_cleaned = calcfromfilter.split('].[')[1].replace(']','')\n",
    "        \n",
    "        tempdict['field'] = calcfromfilter\n",
    "        tempdict['formula'] = calcfromfilter\n",
    "        tempdict['counter'] = c\n",
    "        tempdict['sheetname'] = worskheet.attrib['name']\n",
    "        \n",
    "        try:\n",
    "            st1 = re.findall(pat,string_cleaned)[0]\n",
    "            tempdict['field'] = st1\n",
    "            tempdict['formula'] = st1\n",
    "            collatelist.append(tempdict)\n",
    "            \n",
    "        except:\n",
    "            st2 = string_cleaned.replace(':','')\n",
    "            tempdict['field'] = st2\n",
    "            tempdict['formula'] = st2\n",
    "            collatelist.append(tempdict)\n",
    "\n",
    "        try:\n",
    "            tempdict['context'] = filt.attrib['context']\n",
    "        except:\n",
    "            tempdict['context'] = 'False'\n",
    "           \n",
    "        c = c + 1\n",
    "        tempdict = {}\n",
    "    \n",
    "collatelist[0:5]"
   ]
  },
  {
   "cell_type": "code",
   "execution_count": null,
   "metadata": {},
   "outputs": [],
   "source": [
    "collatelist = default_to_friendly_names(collatelist)\n",
    "collatelist"
   ]
  },
  {
   "cell_type": "code",
   "execution_count": null,
   "metadata": {},
   "outputs": [],
   "source": [
    "df1 = pd.DataFrame(collatelist)\n",
    "\n",
    "df1 = df1[['sheetname', 'field','formula', 'context']]\n",
    "df1.columns = ['Sheet Name', 'Field_RawName', 'Field_FriendlyName', 'Context filter']\n",
    "\n",
    "df1"
   ]
  },
  {
   "cell_type": "markdown",
   "metadata": {},
   "source": [
    "# Extracting rows and cols for each sheet"
   ]
  },
  {
   "cell_type": "code",
   "execution_count": null,
   "metadata": {
    "scrolled": true
   },
   "outputs": [],
   "source": [
    "collecteddata = []\n",
    "\n",
    "for worksheet in root.findall(\"./worksheets/worksheet\"):\n",
    "\n",
    "    argumentstopass = ['rows', 'cols']\n",
    "    \n",
    "    for i in argumentstopass:   \n",
    "    \n",
    "        internaldict = {}\n",
    "\n",
    "        internaldict['sheetname'] = worksheet.attrib['name']\n",
    "        internaldict['type'] = i\n",
    "        \n",
    "        formulahere = worksheet.findall('table/'+i)[0].text\n",
    "        internaldict['formula'] = formulahere\n",
    "        \n",
    "        collecteddata.append(internaldict)\n",
    "    \n",
    "collecteddata[0:5]"
   ]
  },
  {
   "cell_type": "code",
   "execution_count": null,
   "metadata": {},
   "outputs": [],
   "source": [
    "for i in collecteddata:\n",
    "\n",
    "    try:\n",
    "        pattern = '\\:.*?\\:'\n",
    "        pat = '(?<=\\:)(.*?)(?=\\:)'\n",
    "\n",
    "        calculationsWithColon = re.findall(pattern,i['formula']) \n",
    "        calcsWithoutColon = []\n",
    "\n",
    "        for n in calculationsWithColon:\n",
    "            oneCalcWithoutColon = re.findall(pat,n)[0]\n",
    "\n",
    "            calcsWithoutColon.append(oneCalcWithoutColon)\n",
    "\n",
    "        i['extracted formulas'] = calcsWithoutColon\n",
    "        \n",
    "    except:\n",
    "        i['extracted formulas'] = []\n",
    "             \n",
    "    newcalcs = []\n",
    "    formulas_to_process = i['extracted formulas']\n",
    "    \n",
    "    for n in formulas_to_process:\n",
    "        print(n)\n",
    "        \n",
    "        for tableauName, friendlyName in calcDict.items():\n",
    "            \n",
    "            n = n.replace(tableauName, friendlyName)\n",
    "        newcalcs.append(n)\n",
    "        \n",
    "    i['processed formulas'] = newcalcs"
   ]
  },
  {
   "cell_type": "code",
   "execution_count": null,
   "metadata": {
    "scrolled": true
   },
   "outputs": [],
   "source": [
    "df2 = pd.DataFrame(collecteddata)\n",
    "df2 = df2.drop(columns=['formula', 'extracted formulas'])\n",
    "df2 = df2.pivot(index='sheetname', columns='type', values='processed formulas')\n",
    "df2=df2.reset_index()\n",
    "df2.head()"
   ]
  },
  {
   "cell_type": "markdown",
   "metadata": {},
   "source": [
    "## Generating an excel file from a df, so the excel can be formatted, then turning the excel into a pdf"
   ]
  },
  {
   "cell_type": "code",
   "execution_count": null,
   "metadata": {},
   "outputs": [],
   "source": [
    "#load env variable with full path to folder, as otherwise the pdf creation fails\n",
    "\n",
    "with open(\"archive/path_string.txt\", \"r\") as f:\n",
    "    os.environ[\"path_string\"] = f.read()\n",
    "    \n",
    "path_string = os.environ.get('path_string', 'Not Set')\n",
    "path_string = r\"{}\".format(path_string)"
   ]
  },
  {
   "cell_type": "markdown",
   "metadata": {},
   "source": [
    "- Loading the file names and output locations for the excel and pdfs to be produced"
   ]
  },
  {
   "cell_type": "code",
   "execution_count": null,
   "metadata": {},
   "outputs": [],
   "source": [
    "name_to_use = 'RowsAndCols'\n",
    "\n",
    "newFileName = 'outputs\\{}'.format(name_to_use)\n",
    "excelName = newFileName + \".xlsx\"\n",
    "pdfName = newFileName + \".pdf\"\n",
    "print(pdfName)\n",
    "\n",
    "excel_path = path_string.format(excelName)\n",
    "path_to_pdf = path_string.format(pdfName)\n",
    "excel_path"
   ]
  },
  {
   "cell_type": "markdown",
   "metadata": {},
   "source": [
    "- Functions to format the excel files"
   ]
  },
  {
   "cell_type": "code",
   "execution_count": null,
   "metadata": {},
   "outputs": [],
   "source": [
    "def mainCol(colNumber):\n",
    "    format_mainCol = workbook.add_format({'text_wrap': True, 'bold': True})\n",
    "    format_mainCol.set_align('vcenter')\n",
    "    format_mainCol.set_bg_color('#f4dfa4')\n",
    "    format_mainCol.set_border(1)\n",
    "    worksheet.set_column(colNumber,colNumber,20,format_mainCol)\n",
    "    return worksheet"
   ]
  },
  {
   "cell_type": "code",
   "execution_count": null,
   "metadata": {},
   "outputs": [],
   "source": [
    "def normalCol(colNumber, colWidth):\n",
    "    format2 = workbook.add_format({'text_wrap': True})\n",
    "    format2.set_align('vcenter')\n",
    "    format2.set_border(1)\n",
    "    worksheet.set_column(colNumber,colNumber,colWidth,format2)\n",
    "    return worksheet"
   ]
  },
  {
   "cell_type": "markdown",
   "metadata": {},
   "source": [
    "- Creation of excel file, setting each column with the desired format"
   ]
  },
  {
   "cell_type": "code",
   "execution_count": null,
   "metadata": {},
   "outputs": [],
   "source": [
    "writer = pd.ExcelWriter(excelName, engine = 'xlsxwriter')\n",
    "\n",
    "df2.to_excel(writer, sheet_name = 'Sheet1', index=False)\n",
    "workbook=writer.book\n",
    "worksheet = writer.sheets['Sheet1']\n",
    "\n",
    "worksheet = mainCol(0)\n",
    "worksheet = normalCol(1,20)\n",
    "worksheet = normalCol(2,20)\n",
    "\n",
    "worksheet.set_paper(9) #a4\n",
    "worksheet.fit_to_pages(1,0) #fit to 1 page wide, n long\n",
    "\n",
    "writer.save()"
   ]
  },
  {
   "cell_type": "markdown",
   "metadata": {},
   "source": [
    "- Creation of pdf from excel file"
   ]
  },
  {
   "cell_type": "code",
   "execution_count": null,
   "metadata": {},
   "outputs": [],
   "source": [
    "excel = win32com.client.Dispatch(\"Excel.Application\")\n",
    "excel.Visible = False\n",
    "\n",
    "wb = excel.Workbooks.Open(excel_path)\n",
    "\n",
    "ws_index_list=[1]\n",
    "wb.Worksheets(ws_index_list).Select()\n",
    "wb.ActiveSheet.ExportAsFixedFormat(0, path_to_pdf)\n",
    "wb.Close()\n",
    "excel.Quit()"
   ]
  },
  {
   "cell_type": "code",
   "execution_count": null,
   "metadata": {},
   "outputs": [],
   "source": [
    "name_to_use = 'Filters'\n",
    "\n",
    "newFileName = 'outputs\\{}'.format(name_to_use)\n",
    "excelName = newFileName + \".xlsx\"\n",
    "pdfName = newFileName + \".pdf\"\n",
    "print(pdfName)\n",
    "\n",
    "excel_path = path_string.format(excelName)\n",
    "path_to_pdf = path_string.format(pdfName)\n",
    "excel_path\n",
    "\n",
    "writer = pd.ExcelWriter(excelName, engine = 'xlsxwriter')\n",
    "\n",
    "df1.to_excel(writer, sheet_name = 'Sheet1', index=False)\n",
    "workbook=writer.book\n",
    "worksheet = writer.sheets['Sheet1']\n",
    "\n",
    "worksheet = mainCol(0)\n",
    "worksheet = normalCol(1,20)\n",
    "worksheet = normalCol(2,20)\n",
    "\n",
    "worksheet.set_paper(9) #a4\n",
    "worksheet.fit_to_pages(1,0) #fit to 1 page wide, n long\n",
    "\n",
    "writer.save()\n",
    "\n",
    "excel = win32com.client.Dispatch(\"Excel.Application\")\n",
    "excel.Visible = False\n",
    "\n",
    "wb = excel.Workbooks.Open(excel_path)\n",
    "\n",
    "ws_index_list=[1]\n",
    "wb.Worksheets(ws_index_list).Select()\n",
    "wb.ActiveSheet.ExportAsFixedFormat(0, path_to_pdf)\n",
    "wb.Close()\n",
    "excel.Quit()"
   ]
  },
  {
   "cell_type": "code",
   "execution_count": null,
   "metadata": {},
   "outputs": [],
   "source": [
    "name_to_use = 'AllCalculations'\n",
    "\n",
    "newFileName = 'outputs\\{}'.format(name_to_use)\n",
    "excelName = newFileName + \".xlsx\"\n",
    "pdfName = newFileName + \".pdf\"\n",
    "print(pdfName)\n",
    "\n",
    "excel_path = path_string.format(excelName)\n",
    "path_to_pdf = path_string.format(pdfName)\n",
    "excel_path\n",
    "\n",
    "writer = pd.ExcelWriter(excelName, engine = 'xlsxwriter')\n",
    "\n",
    "df.to_excel(writer, sheet_name = 'Sheet1', index=False)\n",
    "workbook=writer.book\n",
    "worksheet = writer.sheets['Sheet1']\n",
    "\n",
    "worksheet = mainCol(0)\n",
    "worksheet = normalCol(1,10)\n",
    "worksheet = normalCol(2,40)\n",
    "worksheet = normalCol(3,10)\n",
    "worksheet = normalCol(4,20)\n",
    "\n",
    "worksheet.set_paper(9) #a4\n",
    "worksheet.fit_to_pages(1,0) #fit to 1 page wide, n long\n",
    "\n",
    "writer.save()\n",
    "\n",
    "excel = win32com.client.Dispatch(\"Excel.Application\")\n",
    "excel.Visible = False\n",
    "\n",
    "wb = excel.Workbooks.Open(excel_path)\n",
    "\n",
    "ws_index_list=[1]\n",
    "wb.Worksheets(ws_index_list).Select()\n",
    "wb.ActiveSheet.ExportAsFixedFormat(0, path_to_pdf)\n",
    "wb.Close()\n",
    "excel.Quit()"
   ]
  }
 ],
 "metadata": {
  "kernelspec": {
   "display_name": "Python 3",
   "language": "python",
   "name": "python3"
  },
  "language_info": {
   "codemirror_mode": {
    "name": "ipython",
    "version": 3
   },
   "file_extension": ".py",
   "mimetype": "text/x-python",
   "name": "python",
   "nbconvert_exporter": "python",
   "pygments_lexer": "ipython3",
   "version": "3.6.8"
  }
 },
 "nbformat": 4,
 "nbformat_minor": 2
}
