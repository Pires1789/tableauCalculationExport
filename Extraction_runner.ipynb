{
 "cells": [
  {
   "cell_type": "code",
   "execution_count": null,
   "metadata": {},
   "outputs": [],
   "source": [
    "import os, pathlib, shutil\n",
    "from os.path import isfile, join\n",
    "\n",
    "cwd = os.getcwd()\n",
    "\n",
    "rawpath = pathlib.Path(cwd).resolve().__str__()\n",
    "path_string = rawpath + \"\\{}\"\n",
    "\n",
    "inputpath = path_string.format(\"inputs\")\n",
    "outputpath = path_string.format(\"outputs\")\n",
    "alreadyAnalysed = path_string.format(\"inputs\\\\alreadyAnalysed\")\n",
    "toAnalyse = path_string.format(\"inputs\\\\toAnalyse\")\n",
    "\n",
    "def check_or_create_folder(folderName):\n",
    "    if not os.path.exists(folderName):\n",
    "        os.makedirs(folderName)\n",
    "\n",
    "foldersToCheck = [outputpath,alreadyAnalysed]\n",
    "        \n",
    "for i in foldersToCheck:\n",
    "    check_or_create_folder(i)"
   ]
  },
  {
   "cell_type": "code",
   "execution_count": null,
   "metadata": {},
   "outputs": [],
   "source": [
    "f = [f for f in os.listdir(toAnalyse) if isfile(join(toAnalyse, f))]\n",
    "\n",
    "for i in f:\n",
    "    fileToProcess = i\n",
    "    shutil.copyfile(toAnalyse + \"\\\\\" + fileToProcess, inputpath + \"\\\\\" + fileToProcess)\n",
    "    \n",
    "    #run the calculation extractor for the fileToProcess\n",
    "    %run Tableau_calculation_extractor.ipynb\n",
    "    \n",
    "    for n in [o for o in os.listdir(inputpath) if isfile(join(inputpath, o))]:\n",
    "        os.remove(inputpath + \"\\\\\" + n)\n",
    "    \n",
    "    shutil.copyfile(toAnalyse + \"\\\\\" + fileToProcess, alreadyAnalysed + \"\\\\\" + fileToProcess)\n",
    "    os.remove(toAnalyse + \"\\\\\" + fileToProcess)"
   ]
  },
  {
   "cell_type": "code",
   "execution_count": null,
   "metadata": {},
   "outputs": [],
   "source": [
    "#clean up the inputs folder from any unzipped files eg. data and image\n",
    "\n",
    "datafolder = path_string.format(\"inputs\\\\Data\")\n",
    "imagefolder = path_string.format(\"inputs\\\\Image\")\n",
    "twbcachefolder = path_string.format(\"inputs\\\\TwbxExternalCache\")\n",
    "\n",
    "folderstocleanup = [datafolder, imagefolder, twbcachefolder]\n",
    "\n",
    "def cleanupfolders(foldertouse):\n",
    "    if os.path.exists(foldertouse):\n",
    "        shutil.rmtree(foldertouse) \n",
    "        \n",
    "for i in folderstocleanup:\n",
    "    cleanupfolders(i)"
   ]
  }
 ],
 "metadata": {
  "kernelspec": {
   "display_name": "Python 3",
   "language": "python",
   "name": "python3"
  },
  "language_info": {
   "codemirror_mode": {
    "name": "ipython",
    "version": 3
   },
   "file_extension": ".py",
   "mimetype": "text/x-python",
   "name": "python",
   "nbconvert_exporter": "python",
   "pygments_lexer": "ipython3",
   "version": "3.6.8"
  }
 },
 "nbformat": 4,
 "nbformat_minor": 2
}
